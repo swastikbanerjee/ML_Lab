{
  "cells": [
    {
      "cell_type": "markdown",
      "metadata": {
        "id": "view-in-github",
        "colab_type": "text"
      },
      "source": [
        "<a href=\"https://colab.research.google.com/github/swastikbanerjee/ML_Lab/blob/main/2348566_Lab4.ipynb\" target=\"_parent\"><img src=\"https://colab.research.google.com/assets/colab-badge.svg\" alt=\"Open In Colab\"/></a>"
      ]
    },
    {
      "cell_type": "code",
      "execution_count": 114,
      "metadata": {
        "id": "NK7gpT8JuZgq"
      },
      "outputs": [],
      "source": [
        "import pandas as pd\n",
        "import numpy as np\n",
        "import matplotlib.pyplot as plt\n",
        "import seaborn as sns\n",
        "import time\n",
        "import threading\n",
        "import warnings\n",
        "warnings.filterwarnings(\"ignore\")\n",
        "warnings.filterwarnings(\"ignore\", category=DeprecationWarning)\n",
        "# warnings.filterwarnings(\"ignore\",category=FutureWarning)\n",
        "from mlxtend.frequent_patterns import apriori,fpgrowth,association_rules"
      ]
    },
    {
      "cell_type": "code",
      "execution_count": 115,
      "metadata": {
        "id": "JFhdk2cXujnR"
      },
      "outputs": [],
      "source": [
        "data = pd.read_csv(\"/content/Groceries_dataset (1).csv\")"
      ]
    },
    {
      "cell_type": "code",
      "execution_count": 116,
      "metadata": {
        "colab": {
          "base_uri": "https://localhost:8080/"
        },
        "id": "Y3NDTXRbuo5b",
        "outputId": "142b2e7b-5cbe-451a-f9ae-92b91725efac"
      },
      "outputs": [
        {
          "output_type": "execute_result",
          "data": {
            "text/plain": [
              "(38765, 3)"
            ]
          },
          "metadata": {},
          "execution_count": 116
        }
      ],
      "source": [
        "data.shape"
      ]
    },
    {
      "cell_type": "code",
      "execution_count": 117,
      "metadata": {
        "id": "M_nEmvIPuwsT",
        "colab": {
          "base_uri": "https://localhost:8080/",
          "height": 206
        },
        "outputId": "8997d867-aeef-4af4-9e76-89c365118920"
      },
      "outputs": [
        {
          "output_type": "execute_result",
          "data": {
            "text/plain": [
              "   Member_number        Date   itemDescription\n",
              "0           1808  21-07-2015    tropical fruit\n",
              "1           2552  05-01-2015        whole milk\n",
              "2           2300  19-09-2015         pip fruit\n",
              "3           1187  12-12-2015  other vegetables\n",
              "4           3037  01-02-2015        whole milk"
            ],
            "text/html": [
              "\n",
              "  <div id=\"df-1da83cbd-1b3d-4de8-b108-add7f3db047c\" class=\"colab-df-container\">\n",
              "    <div>\n",
              "<style scoped>\n",
              "    .dataframe tbody tr th:only-of-type {\n",
              "        vertical-align: middle;\n",
              "    }\n",
              "\n",
              "    .dataframe tbody tr th {\n",
              "        vertical-align: top;\n",
              "    }\n",
              "\n",
              "    .dataframe thead th {\n",
              "        text-align: right;\n",
              "    }\n",
              "</style>\n",
              "<table border=\"1\" class=\"dataframe\">\n",
              "  <thead>\n",
              "    <tr style=\"text-align: right;\">\n",
              "      <th></th>\n",
              "      <th>Member_number</th>\n",
              "      <th>Date</th>\n",
              "      <th>itemDescription</th>\n",
              "    </tr>\n",
              "  </thead>\n",
              "  <tbody>\n",
              "    <tr>\n",
              "      <th>0</th>\n",
              "      <td>1808</td>\n",
              "      <td>21-07-2015</td>\n",
              "      <td>tropical fruit</td>\n",
              "    </tr>\n",
              "    <tr>\n",
              "      <th>1</th>\n",
              "      <td>2552</td>\n",
              "      <td>05-01-2015</td>\n",
              "      <td>whole milk</td>\n",
              "    </tr>\n",
              "    <tr>\n",
              "      <th>2</th>\n",
              "      <td>2300</td>\n",
              "      <td>19-09-2015</td>\n",
              "      <td>pip fruit</td>\n",
              "    </tr>\n",
              "    <tr>\n",
              "      <th>3</th>\n",
              "      <td>1187</td>\n",
              "      <td>12-12-2015</td>\n",
              "      <td>other vegetables</td>\n",
              "    </tr>\n",
              "    <tr>\n",
              "      <th>4</th>\n",
              "      <td>3037</td>\n",
              "      <td>01-02-2015</td>\n",
              "      <td>whole milk</td>\n",
              "    </tr>\n",
              "  </tbody>\n",
              "</table>\n",
              "</div>\n",
              "    <div class=\"colab-df-buttons\">\n",
              "\n",
              "  <div class=\"colab-df-container\">\n",
              "    <button class=\"colab-df-convert\" onclick=\"convertToInteractive('df-1da83cbd-1b3d-4de8-b108-add7f3db047c')\"\n",
              "            title=\"Convert this dataframe to an interactive table.\"\n",
              "            style=\"display:none;\">\n",
              "\n",
              "  <svg xmlns=\"http://www.w3.org/2000/svg\" height=\"24px\" viewBox=\"0 -960 960 960\">\n",
              "    <path d=\"M120-120v-720h720v720H120Zm60-500h600v-160H180v160Zm220 220h160v-160H400v160Zm0 220h160v-160H400v160ZM180-400h160v-160H180v160Zm440 0h160v-160H620v160ZM180-180h160v-160H180v160Zm440 0h160v-160H620v160Z\"/>\n",
              "  </svg>\n",
              "    </button>\n",
              "\n",
              "  <style>\n",
              "    .colab-df-container {\n",
              "      display:flex;\n",
              "      gap: 12px;\n",
              "    }\n",
              "\n",
              "    .colab-df-convert {\n",
              "      background-color: #E8F0FE;\n",
              "      border: none;\n",
              "      border-radius: 50%;\n",
              "      cursor: pointer;\n",
              "      display: none;\n",
              "      fill: #1967D2;\n",
              "      height: 32px;\n",
              "      padding: 0 0 0 0;\n",
              "      width: 32px;\n",
              "    }\n",
              "\n",
              "    .colab-df-convert:hover {\n",
              "      background-color: #E2EBFA;\n",
              "      box-shadow: 0px 1px 2px rgba(60, 64, 67, 0.3), 0px 1px 3px 1px rgba(60, 64, 67, 0.15);\n",
              "      fill: #174EA6;\n",
              "    }\n",
              "\n",
              "    .colab-df-buttons div {\n",
              "      margin-bottom: 4px;\n",
              "    }\n",
              "\n",
              "    [theme=dark] .colab-df-convert {\n",
              "      background-color: #3B4455;\n",
              "      fill: #D2E3FC;\n",
              "    }\n",
              "\n",
              "    [theme=dark] .colab-df-convert:hover {\n",
              "      background-color: #434B5C;\n",
              "      box-shadow: 0px 1px 3px 1px rgba(0, 0, 0, 0.15);\n",
              "      filter: drop-shadow(0px 1px 2px rgba(0, 0, 0, 0.3));\n",
              "      fill: #FFFFFF;\n",
              "    }\n",
              "  </style>\n",
              "\n",
              "    <script>\n",
              "      const buttonEl =\n",
              "        document.querySelector('#df-1da83cbd-1b3d-4de8-b108-add7f3db047c button.colab-df-convert');\n",
              "      buttonEl.style.display =\n",
              "        google.colab.kernel.accessAllowed ? 'block' : 'none';\n",
              "\n",
              "      async function convertToInteractive(key) {\n",
              "        const element = document.querySelector('#df-1da83cbd-1b3d-4de8-b108-add7f3db047c');\n",
              "        const dataTable =\n",
              "          await google.colab.kernel.invokeFunction('convertToInteractive',\n",
              "                                                    [key], {});\n",
              "        if (!dataTable) return;\n",
              "\n",
              "        const docLinkHtml = 'Like what you see? Visit the ' +\n",
              "          '<a target=\"_blank\" href=https://colab.research.google.com/notebooks/data_table.ipynb>data table notebook</a>'\n",
              "          + ' to learn more about interactive tables.';\n",
              "        element.innerHTML = '';\n",
              "        dataTable['output_type'] = 'display_data';\n",
              "        await google.colab.output.renderOutput(dataTable, element);\n",
              "        const docLink = document.createElement('div');\n",
              "        docLink.innerHTML = docLinkHtml;\n",
              "        element.appendChild(docLink);\n",
              "      }\n",
              "    </script>\n",
              "  </div>\n",
              "\n",
              "\n",
              "<div id=\"df-2eeff53f-163f-438c-ad95-65f79d93e665\">\n",
              "  <button class=\"colab-df-quickchart\" onclick=\"quickchart('df-2eeff53f-163f-438c-ad95-65f79d93e665')\"\n",
              "            title=\"Suggest charts.\"\n",
              "            style=\"display:none;\">\n",
              "\n",
              "<svg xmlns=\"http://www.w3.org/2000/svg\" height=\"24px\"viewBox=\"0 0 24 24\"\n",
              "     width=\"24px\">\n",
              "    <g>\n",
              "        <path d=\"M19 3H5c-1.1 0-2 .9-2 2v14c0 1.1.9 2 2 2h14c1.1 0 2-.9 2-2V5c0-1.1-.9-2-2-2zM9 17H7v-7h2v7zm4 0h-2V7h2v10zm4 0h-2v-4h2v4z\"/>\n",
              "    </g>\n",
              "</svg>\n",
              "  </button>\n",
              "\n",
              "<style>\n",
              "  .colab-df-quickchart {\n",
              "    background-color: #E8F0FE;\n",
              "    border: none;\n",
              "    border-radius: 50%;\n",
              "    cursor: pointer;\n",
              "    display: none;\n",
              "    fill: #1967D2;\n",
              "    height: 32px;\n",
              "    padding: 0 0 0 0;\n",
              "    width: 32px;\n",
              "  }\n",
              "\n",
              "  .colab-df-quickchart:hover {\n",
              "    background-color: #E2EBFA;\n",
              "    box-shadow: 0px 1px 2px rgba(60, 64, 67, 0.3), 0px 1px 3px 1px rgba(60, 64, 67, 0.15);\n",
              "    fill: #174EA6;\n",
              "  }\n",
              "\n",
              "  [theme=dark] .colab-df-quickchart {\n",
              "    background-color: #3B4455;\n",
              "    fill: #D2E3FC;\n",
              "  }\n",
              "\n",
              "  [theme=dark] .colab-df-quickchart:hover {\n",
              "    background-color: #434B5C;\n",
              "    box-shadow: 0px 1px 3px 1px rgba(0, 0, 0, 0.15);\n",
              "    filter: drop-shadow(0px 1px 2px rgba(0, 0, 0, 0.3));\n",
              "    fill: #FFFFFF;\n",
              "  }\n",
              "</style>\n",
              "\n",
              "  <script>\n",
              "    async function quickchart(key) {\n",
              "      const charts = await google.colab.kernel.invokeFunction(\n",
              "          'suggestCharts', [key], {});\n",
              "    }\n",
              "    (() => {\n",
              "      let quickchartButtonEl =\n",
              "        document.querySelector('#df-2eeff53f-163f-438c-ad95-65f79d93e665 button');\n",
              "      quickchartButtonEl.style.display =\n",
              "        google.colab.kernel.accessAllowed ? 'block' : 'none';\n",
              "    })();\n",
              "  </script>\n",
              "</div>\n",
              "    </div>\n",
              "  </div>\n"
            ]
          },
          "metadata": {},
          "execution_count": 117
        }
      ],
      "source": [
        "data.head()"
      ]
    },
    {
      "cell_type": "code",
      "execution_count": 118,
      "metadata": {
        "id": "GnQu607OuzIS",
        "colab": {
          "base_uri": "https://localhost:8080/"
        },
        "outputId": "c18d65d7-599d-4331-ac2b-0a2644b238de"
      },
      "outputs": [
        {
          "output_type": "execute_result",
          "data": {
            "text/plain": [
              "Member_number      0\n",
              "Date               0\n",
              "itemDescription    0\n",
              "dtype: int64"
            ]
          },
          "metadata": {},
          "execution_count": 118
        }
      ],
      "source": [
        "data.isnull().sum()"
      ]
    },
    {
      "cell_type": "code",
      "execution_count": 119,
      "metadata": {
        "id": "NS64BYuevHZO",
        "colab": {
          "base_uri": "https://localhost:8080/"
        },
        "outputId": "d3ca03c4-4c75-4997-cd05-8bb346c6e56d"
      },
      "outputs": [
        {
          "output_type": "execute_result",
          "data": {
            "text/plain": [
              "[[1808, '21-07-2015', 'tropical fruit'],\n",
              " [2552, '05-01-2015', 'whole milk'],\n",
              " [2300, '19-09-2015', 'pip fruit'],\n",
              " [1187, '12-12-2015', 'other vegetables'],\n",
              " [3037, '01-02-2015', 'whole milk'],\n",
              " [4941, '14-02-2015', 'rolls/buns'],\n",
              " [4501, '08-05-2015', 'other vegetables'],\n",
              " [3803, '23-12-2015', 'pot plants'],\n",
              " [2762, '20-03-2015', 'whole milk'],\n",
              " [4119, '12-02-2015', 'tropical fruit']]"
            ]
          },
          "metadata": {},
          "execution_count": 119
        }
      ],
      "source": [
        "transactions=[]\n",
        "for index,row in data.iterrows():\n",
        "  transactions.append(row.dropna().tolist())\n",
        "transactions[:10]"
      ]
    },
    {
      "cell_type": "code",
      "execution_count": 120,
      "metadata": {
        "id": "M8Uz6VQZ-4HX"
      },
      "outputs": [],
      "source": [
        "chunk_size = 1000\n",
        "num_chunks = len(transactions)\n",
        "\n",
        "for i in range(num_chunks):\n",
        "    chunk = transactions[i * chunk_size: (i + 1) * chunk_size]\n",
        "\n",
        "    encoded = pd.get_dummies(pd.DataFrame(chunk).stack()).sum(level=0)\n",
        "    transactionsdf = (encoded > 0).astype(int)"
      ]
    },
    {
      "cell_type": "code",
      "execution_count": 121,
      "metadata": {
        "id": "tTK7JBQ5D9B_"
      },
      "outputs": [],
      "source": [
        "aprioricompleted = threading.Event()\n",
        "fpcompleted = threading.Event()"
      ]
    },
    {
      "cell_type": "code",
      "source": [
        "executiontime = [0,0]"
      ],
      "metadata": {
        "id": "Jr_hC0_SE_-i"
      },
      "execution_count": 122,
      "outputs": []
    },
    {
      "cell_type": "code",
      "source": [
        "def runapriori():\n",
        "    stime = time.time()\n",
        "    global aprioriresults\n",
        "    aprioriresults = apriori(transactionsdf, min_support=0.02, use_colnames=True)\n",
        "    executiontime[0] = time.time() - stime\n",
        "    aprioricompleted.set()"
      ],
      "metadata": {
        "id": "diA7f49IFBNp"
      },
      "execution_count": 124,
      "outputs": []
    },
    {
      "cell_type": "code",
      "source": [
        "def runfp():\n",
        "    stime = time.time()\n",
        "    global fpresults\n",
        "    fpresults = fpgrowth(transactionsdf, min_support=0.02, use_colnames=True)\n",
        "    executiontime[1] = time.time() - stime\n",
        "    fpcompleted.set()"
      ],
      "metadata": {
        "id": "eNp87369FEx1"
      },
      "execution_count": 125,
      "outputs": []
    },
    {
      "cell_type": "code",
      "source": [
        "apthread = threading.Thread(target=runapriori)\n",
        "fpthread = threading.Thread(target=runfp)"
      ],
      "metadata": {
        "id": "LazwhbqqFLOB"
      },
      "execution_count": 126,
      "outputs": []
    },
    {
      "cell_type": "code",
      "source": [
        "apthread.start()\n",
        "fpthread.start()\n",
        "aprioricompleted.wait()\n",
        "fpcompleted.wait()\n",
        "apthread.join()\n",
        "fpthread.join()"
      ],
      "metadata": {
        "id": "47vC0YqLFM1d"
      },
      "execution_count": 127,
      "outputs": []
    },
    {
      "cell_type": "code",
      "source": [
        "print(executiontime)"
      ],
      "metadata": {
        "colab": {
          "base_uri": "https://localhost:8080/"
        },
        "id": "5OkFmw9wFRzf",
        "outputId": "56712cf3-a02b-4ff0-ff85-a86c45e634d2"
      },
      "execution_count": 128,
      "outputs": [
        {
          "output_type": "stream",
          "name": "stdout",
          "text": [
            "[0.004120349884033203, 0.00201416015625]\n"
          ]
        }
      ]
    },
    {
      "cell_type": "code",
      "source": [
        "# Labels for the algorithms\n",
        "algorithms = ['Apriori', 'FP-Growth']\n",
        "\n",
        "# Create a bar graph\n",
        "plt.bar(algorithms, executiontime, color=['green','maroon'])\n",
        "\n",
        "# Label the axes and add a title\n",
        "plt.xlabel('Algorithms')\n",
        "plt.ylabel('Execution Time (seconds)')\n",
        "plt.title('Execution Time Comparison: Apriori vs FP-Growth')\n",
        "\n",
        "# Display the graph\n",
        "plt.show()"
      ],
      "metadata": {
        "colab": {
          "base_uri": "https://localhost:8080/",
          "height": 472
        },
        "id": "cXBWmafYP1CV",
        "outputId": "f1e86c5b-6ca6-4ed4-f994-482caf2e5c61"
      },
      "execution_count": 129,
      "outputs": [
        {
          "output_type": "display_data",
          "data": {
            "text/plain": [
              "<Figure size 640x480 with 1 Axes>"
            ],
            "image/png": "[encoded data removed]"
          },
          "metadata": {}
        }
      ]
    },
    {
      "cell_type": "markdown",
      "source": [
        "Since, FP-growth algorithm takes lesser execution time than Apriori algorithm for our Market Basket Analysis, it is recommended."
      ],
      "metadata": {
        "id": "OtduXM1GQe62"
      }
    },
    {
      "cell_type": "code",
      "source": [
        "min_support = float(input(\"Enter the minimum support threshold: \"))\n",
        "min_confidence = float(input(\"Enter the minimum confidence threshold: \"))\n",
        "\n",
        "apriori_rules = association_rules(aprioriresults, metric=\"confidence\", min_threshold=min_confidence)\n",
        "fp_rules = association_rules(fpresults, metric=\"confidence\", min_threshold=min_confidence)\n",
        "\n",
        "print(\"\\nApriori Association Rules:\")\n",
        "print(apriori_rules)\n",
        "print(\"\\nFP-Growth Association Rules:\")\n",
        "print(fp_rules)"
      ],
      "metadata": {
        "id": "ONtwBb27z8KI"
      },
      "execution_count": null,
      "outputs": []
    }
  ],
  "metadata": {
    "colab": {
      "provenance": [],
      "authorship_tag": "ABX9TyO4oPJGOVXdADOANg5X9i2F",
      "include_colab_link": true
    },
    "kernelspec": {
      "display_name": "Python 3",
      "name": "python3"
    },
    "language_info": {
      "name": "python"
    }
  },
  "nbformat": 4,
  "nbformat_minor": 0
}